{
 "cells": [
  {
   "cell_type": "markdown",
   "metadata": {},
   "source": [
    "# Money Cannot Buy Happiness \n",
    "I was reading \"Hands on Machine Learning with Scikit Learn and Tensorflow\" (a very good book, if I may add), there was the example on Model Based Learning, the author asked; Suppose you want to know if money makes people happy, and it got me thinking, how would I go about answering this? \n",
    "I put down the book without further reading and started searching. \n",
    "\n",
    "### Can Money Buy You Happiness? \n",
    "So I decided if i wanted to answer this, I should go beyond an individual person and think in terms of countries, there is such thing as the World Happiness Report to record this information. It is an annual publication of the United Nations Sustainable Development Solutions Network. It contains articles, and rankings of national happiness based on respondent ratings of their own lives. To no one's surprise, Finland is the happiest country in the world. Norway, Denmark, Iceland and Switzerland hold the next top positions. The report was published on 14 March 2018 by UN. \n",
    "\n",
    "I did what any data scientist would do, I went to Wikipedia and scraped the data. The acquired from Wikipedia included: Rank, country, happiness scores, GDP, social support, healthy life expectancy, freedom to make life choices, generosity and perceptions of corruption. I also decided to add Suicide rates statics for each country according to data from the World Health Organization (WHO). A country's suicide rate is determined by its age-adjusted total rate (per 100,000 population) of deaths officially recorded as suicides in the most recent available year(2016). The process of scraping and cleaning the data was straightforward (for a change) and didn't take more than two hours. "
   ]
  },
  {
   "cell_type": "code",
   "execution_count": 1,
   "metadata": {},
   "outputs": [],
   "source": [
    "import numpy as np \n",
    "import pandas as pd \n",
    "import urllib.request\n",
    "from bs4 import BeautifulSoup\n",
    "import requests"
   ]
  },
  {
   "cell_type": "code",
   "execution_count": 40,
   "metadata": {},
   "outputs": [],
   "source": [
    "url_rank = 'https://en.wikipedia.org/wiki/World_Happiness_Report'\n",
    "r = requests.get(url_rank).text\n",
    "soup = BeautifulSoup(r,'lxml')\n",
    "table = soup.find('table', class_ = 'wikitable sortable')\n",
    "rank = []\n",
    "countries_links = []\n",
    "scores = []\n",
    "GDP = []\n",
    "social_support = []\n",
    "healthy_life_expectancy = []\n",
    "freedom_to_make_life_choices = []\n",
    "generosity = []\n",
    "perceptions_of_corruption = []\n",
    "for row in table.findAll('tr'):\n",
    "    cells = row.findAll('td')\n",
    "    if len(cells)==9: #Only extract date column with no heading\n",
    "            rank.append(cells[0].find(text=True))  \n",
    "            countries_links.append(cells[1].find(title=True)) \n",
    "            scores.append(cells[2].find(text=True))\n",
    "            GDP.append(cells[3].find(text=True))\n",
    "            social_support.append(cells[4].find(text=True))\n",
    "            healthy_life_expectancy.append(cells[5].find(text=True))\n",
    "            freedom_to_make_life_choices.append(cells[6].find(text=True))\n",
    "            generosity.append(cells[7].find(text=True))\n",
    "            perceptions_of_corruption.append(cells[8].find(text=True))"
   ]
  },
  {
   "cell_type": "code",
   "execution_count": 41,
   "metadata": {
    "scrolled": true
   },
   "outputs": [
    {
     "data": {
      "text/plain": [
       "156"
      ]
     },
     "execution_count": 41,
     "metadata": {},
     "output_type": "execute_result"
    }
   ],
   "source": [
    "countries = []\n",
    "for country in countries_links: \n",
    "                countries.append(country.get('title'))\n",
    "len(countries)"
   ]
  },
  {
   "cell_type": "code",
   "execution_count": 42,
   "metadata": {
    "scrolled": true
   },
   "outputs": [
    {
     "data": {
      "text/html": [
       "<div>\n",
       "<style scoped>\n",
       "    .dataframe tbody tr th:only-of-type {\n",
       "        vertical-align: middle;\n",
       "    }\n",
       "\n",
       "    .dataframe tbody tr th {\n",
       "        vertical-align: top;\n",
       "    }\n",
       "\n",
       "    .dataframe thead th {\n",
       "        text-align: right;\n",
       "    }\n",
       "</style>\n",
       "<table border=\"1\" class=\"dataframe\">\n",
       "  <thead>\n",
       "    <tr style=\"text-align: right;\">\n",
       "      <th></th>\n",
       "      <th>rank</th>\n",
       "      <th>countries</th>\n",
       "      <th>scores</th>\n",
       "      <th>GDP</th>\n",
       "      <th>social_support</th>\n",
       "      <th>healthy_life_expectancy</th>\n",
       "      <th>freedom_to_make_life_choices</th>\n",
       "      <th>generosity</th>\n",
       "      <th>perceptions_of_corruption</th>\n",
       "    </tr>\n",
       "  </thead>\n",
       "  <tbody>\n",
       "    <tr>\n",
       "      <th>0</th>\n",
       "      <td>1</td>\n",
       "      <td>Finland</td>\n",
       "      <td>7.632</td>\n",
       "      <td>1.305</td>\n",
       "      <td>1.592</td>\n",
       "      <td>0.874</td>\n",
       "      <td>0.681</td>\n",
       "      <td>0.192</td>\n",
       "      <td>0.393</td>\n",
       "    </tr>\n",
       "    <tr>\n",
       "      <th>1</th>\n",
       "      <td>2</td>\n",
       "      <td>Norway</td>\n",
       "      <td>7.594</td>\n",
       "      <td>1.456</td>\n",
       "      <td>1.582</td>\n",
       "      <td>0.861</td>\n",
       "      <td>0.686</td>\n",
       "      <td>0.286</td>\n",
       "      <td>0.340</td>\n",
       "    </tr>\n",
       "    <tr>\n",
       "      <th>2</th>\n",
       "      <td>3</td>\n",
       "      <td>Denmark</td>\n",
       "      <td>7.555</td>\n",
       "      <td>1.351</td>\n",
       "      <td>1.590</td>\n",
       "      <td>0.868</td>\n",
       "      <td>0.683</td>\n",
       "      <td>0.284</td>\n",
       "      <td>0.408</td>\n",
       "    </tr>\n",
       "    <tr>\n",
       "      <th>3</th>\n",
       "      <td>4</td>\n",
       "      <td>Iceland</td>\n",
       "      <td>7.495</td>\n",
       "      <td>1.343</td>\n",
       "      <td>1.644</td>\n",
       "      <td>0.914</td>\n",
       "      <td>0.677</td>\n",
       "      <td>0.353</td>\n",
       "      <td>0.138</td>\n",
       "    </tr>\n",
       "    <tr>\n",
       "      <th>4</th>\n",
       "      <td>5</td>\n",
       "      <td>Switzerland</td>\n",
       "      <td>7.487</td>\n",
       "      <td>1.420</td>\n",
       "      <td>1.549</td>\n",
       "      <td>0.927</td>\n",
       "      <td>0.660</td>\n",
       "      <td>0.256</td>\n",
       "      <td>0.357</td>\n",
       "    </tr>\n",
       "  </tbody>\n",
       "</table>\n",
       "</div>"
      ],
      "text/plain": [
       "  rank    countries scores    GDP social_support healthy_life_expectancy  \\\n",
       "0    1      Finland  7.632  1.305          1.592                   0.874   \n",
       "1    2       Norway  7.594  1.456          1.582                   0.861   \n",
       "2    3      Denmark  7.555  1.351          1.590                   0.868   \n",
       "3    4      Iceland  7.495  1.343          1.644                   0.914   \n",
       "4    5  Switzerland  7.487  1.420          1.549                   0.927   \n",
       "\n",
       "  freedom_to_make_life_choices generosity perceptions_of_corruption  \n",
       "0                        0.681      0.192                    0.393\n",
       "  \n",
       "1                        0.686      0.286                    0.340\n",
       "  \n",
       "2                        0.683      0.284                    0.408\n",
       "  \n",
       "3                        0.677      0.353                    0.138\n",
       "  \n",
       "4                        0.660      0.256                    0.357\n",
       "  "
      ]
     },
     "execution_count": 42,
     "metadata": {},
     "output_type": "execute_result"
    }
   ],
   "source": [
    "df_happiness = pd.DataFrame({\"rank\": rank, 'countries':countries,'scores':scores,'GDP':GDP,\n",
    "                             'social_support':social_support,\n",
    "                            'healthy_life_expectancy':healthy_life_expectancy,\n",
    "                             'freedom_to_make_life_choices':freedom_to_make_life_choices,\n",
    "                             'generosity':generosity,'perceptions_of_corruption':perceptions_of_corruption})\n",
    "df_happiness.head()"
   ]
  },
  {
   "cell_type": "code",
   "execution_count": 43,
   "metadata": {},
   "outputs": [],
   "source": [
    "url_suicide = 'https://en.wikipedia.org/wiki/List_of_countries_by_suicide_rate#endnote_data_updated_2018'\n",
    "r = requests.get(url_suicide).text\n",
    "soup = BeautifulSoup(r,'lxml')\n",
    "table = soup.find('table', class_ = 'wikitable sortable')\n",
    "suicide_rank = []\n",
    "countries_suicide_links = []\n",
    "both_sexes = []\n",
    "\n",
    "for row in table.findAll('tr'):\n",
    "    cells = row.findAll('td')\n",
    "    if len(cells)==9: #Only extract date column with no heading\n",
    "            suicide_rank.append(cells[0].find(text=True))  \n",
    "            countries_suicide_links.append(cells[1].find(title=True)) \n",
    "            both_sexes.append(cells[3].find(text=True))\n",
    "            \n",
    "\n",
    "countries = []\n",
    "for country in countries_suicide_links: \n",
    "                countries.append(country.get('title'))"
   ]
  },
  {
   "cell_type": "code",
   "execution_count": 44,
   "metadata": {},
   "outputs": [
    {
     "data": {
      "text/html": [
       "<div>\n",
       "<style scoped>\n",
       "    .dataframe tbody tr th:only-of-type {\n",
       "        vertical-align: middle;\n",
       "    }\n",
       "\n",
       "    .dataframe tbody tr th {\n",
       "        vertical-align: top;\n",
       "    }\n",
       "\n",
       "    .dataframe thead th {\n",
       "        text-align: right;\n",
       "    }\n",
       "</style>\n",
       "<table border=\"1\" class=\"dataframe\">\n",
       "  <thead>\n",
       "    <tr style=\"text-align: right;\">\n",
       "      <th></th>\n",
       "      <th>suicide_rank</th>\n",
       "      <th>countries</th>\n",
       "      <th>suicide_both_sexes</th>\n",
       "    </tr>\n",
       "  </thead>\n",
       "  <tbody>\n",
       "    <tr>\n",
       "      <th>0</th>\n",
       "      <td>1</td>\n",
       "      <td>Guyana</td>\n",
       "      <td>30.2</td>\n",
       "    </tr>\n",
       "    <tr>\n",
       "      <th>1</th>\n",
       "      <td>2</td>\n",
       "      <td>Lesotho</td>\n",
       "      <td>28.9</td>\n",
       "    </tr>\n",
       "    <tr>\n",
       "      <th>2</th>\n",
       "      <td>3</td>\n",
       "      <td>Russia</td>\n",
       "      <td>26.5</td>\n",
       "    </tr>\n",
       "    <tr>\n",
       "      <th>3</th>\n",
       "      <td>4</td>\n",
       "      <td>Lithuania</td>\n",
       "      <td>25.7</td>\n",
       "    </tr>\n",
       "    <tr>\n",
       "      <th>4</th>\n",
       "      <td>5</td>\n",
       "      <td>Suriname</td>\n",
       "      <td>23.2</td>\n",
       "    </tr>\n",
       "  </tbody>\n",
       "</table>\n",
       "</div>"
      ],
      "text/plain": [
       "  suicide_rank  countries suicide_both_sexes\n",
       "0           1\n",
       "     Guyana              30.2\n",
       "\n",
       "1           2\n",
       "    Lesotho              28.9\n",
       "\n",
       "2           3\n",
       "     Russia              26.5\n",
       "\n",
       "3           4\n",
       "  Lithuania              25.7\n",
       "\n",
       "4           5\n",
       "   Suriname              23.2"
      ]
     },
     "execution_count": 44,
     "metadata": {},
     "output_type": "execute_result"
    }
   ],
   "source": [
    "df_suicide = pd.DataFrame({\"suicide_rank\": suicide_rank, 'countries':countries,\n",
    "                           'suicide_both_sexes':both_sexes})\n",
    "df_suicide.head()"
   ]
  },
  {
   "cell_type": "code",
   "execution_count": 45,
   "metadata": {
    "scrolled": false
   },
   "outputs": [
    {
     "data": {
      "text/html": [
       "<div>\n",
       "<style scoped>\n",
       "    .dataframe tbody tr th:only-of-type {\n",
       "        vertical-align: middle;\n",
       "    }\n",
       "\n",
       "    .dataframe tbody tr th {\n",
       "        vertical-align: top;\n",
       "    }\n",
       "\n",
       "    .dataframe thead th {\n",
       "        text-align: right;\n",
       "    }\n",
       "</style>\n",
       "<table border=\"1\" class=\"dataframe\">\n",
       "  <thead>\n",
       "    <tr style=\"text-align: right;\">\n",
       "      <th></th>\n",
       "      <th>rank</th>\n",
       "      <th>countries</th>\n",
       "      <th>scores</th>\n",
       "      <th>GDP</th>\n",
       "      <th>social_support</th>\n",
       "      <th>healthy_life_expectancy</th>\n",
       "      <th>freedom_to_make_life_choices</th>\n",
       "      <th>generosity</th>\n",
       "      <th>perceptions_of_corruption</th>\n",
       "      <th>suicide_rank</th>\n",
       "      <th>suicide_both_sexes</th>\n",
       "    </tr>\n",
       "  </thead>\n",
       "  <tbody>\n",
       "    <tr>\n",
       "      <th>0</th>\n",
       "      <td>1</td>\n",
       "      <td>Finland</td>\n",
       "      <td>7.632</td>\n",
       "      <td>1.305</td>\n",
       "      <td>1.592</td>\n",
       "      <td>0.874</td>\n",
       "      <td>0.681</td>\n",
       "      <td>0.192</td>\n",
       "      <td>0.393</td>\n",
       "      <td>32</td>\n",
       "      <td>13.8</td>\n",
       "    </tr>\n",
       "    <tr>\n",
       "      <th>1</th>\n",
       "      <td>2</td>\n",
       "      <td>Norway</td>\n",
       "      <td>7.594</td>\n",
       "      <td>1.456</td>\n",
       "      <td>1.582</td>\n",
       "      <td>0.861</td>\n",
       "      <td>0.686</td>\n",
       "      <td>0.286</td>\n",
       "      <td>0.340</td>\n",
       "      <td>74</td>\n",
       "      <td>10.1</td>\n",
       "    </tr>\n",
       "    <tr>\n",
       "      <th>2</th>\n",
       "      <td>3</td>\n",
       "      <td>Denmark</td>\n",
       "      <td>7.555</td>\n",
       "      <td>1.351</td>\n",
       "      <td>1.590</td>\n",
       "      <td>0.868</td>\n",
       "      <td>0.683</td>\n",
       "      <td>0.284</td>\n",
       "      <td>0.408</td>\n",
       "      <td>89</td>\n",
       "      <td>9.2</td>\n",
       "    </tr>\n",
       "    <tr>\n",
       "      <th>3</th>\n",
       "      <td>4</td>\n",
       "      <td>Iceland</td>\n",
       "      <td>7.495</td>\n",
       "      <td>1.343</td>\n",
       "      <td>1.644</td>\n",
       "      <td>0.914</td>\n",
       "      <td>0.677</td>\n",
       "      <td>0.353</td>\n",
       "      <td>0.138</td>\n",
       "      <td>40</td>\n",
       "      <td>13.3</td>\n",
       "    </tr>\n",
       "    <tr>\n",
       "      <th>4</th>\n",
       "      <td>5</td>\n",
       "      <td>Switzerland</td>\n",
       "      <td>7.487</td>\n",
       "      <td>1.420</td>\n",
       "      <td>1.549</td>\n",
       "      <td>0.927</td>\n",
       "      <td>0.660</td>\n",
       "      <td>0.256</td>\n",
       "      <td>0.357</td>\n",
       "      <td>61</td>\n",
       "      <td>11.3</td>\n",
       "    </tr>\n",
       "  </tbody>\n",
       "</table>\n",
       "</div>"
      ],
      "text/plain": [
       "  rank    countries scores    GDP social_support healthy_life_expectancy  \\\n",
       "0    1      Finland  7.632  1.305          1.592                   0.874   \n",
       "1    2       Norway  7.594  1.456          1.582                   0.861   \n",
       "2    3      Denmark  7.555  1.351          1.590                   0.868   \n",
       "3    4      Iceland  7.495  1.343          1.644                   0.914   \n",
       "4    5  Switzerland  7.487  1.420          1.549                   0.927   \n",
       "\n",
       "  freedom_to_make_life_choices generosity perceptions_of_corruption  \\\n",
       "0                        0.681      0.192                    0.393\n",
       "   \n",
       "1                        0.686      0.286                    0.340\n",
       "   \n",
       "2                        0.683      0.284                    0.408\n",
       "   \n",
       "3                        0.677      0.353                    0.138\n",
       "   \n",
       "4                        0.660      0.256                    0.357\n",
       "   \n",
       "\n",
       "  suicide_rank suicide_both_sexes  \n",
       "0          32\n",
       "              13.8\n",
       "  \n",
       "1          74\n",
       "              10.1\n",
       "  \n",
       "2          89\n",
       "               9.2\n",
       "  \n",
       "3          40\n",
       "              13.3\n",
       "  \n",
       "4          61\n",
       "              11.3\n",
       "  "
      ]
     },
     "execution_count": 45,
     "metadata": {},
     "output_type": "execute_result"
    }
   ],
   "source": [
    "df = pd.merge(df_happiness,df_suicide,on='countries')\n",
    "df.head()"
   ]
  },
  {
   "cell_type": "code",
   "execution_count": 46,
   "metadata": {},
   "outputs": [],
   "source": [
    "df = df.drop(['rank', 'suicide_rank'], axis=1)"
   ]
  },
  {
   "cell_type": "code",
   "execution_count": 47,
   "metadata": {},
   "outputs": [],
   "source": [
    "#Standerizing all data by normilizing it between 0 and 1\n",
    "\n",
    "from sklearn import preprocessing\n",
    "%matplotlib inline\n",
    "\n",
    "x = df[['scores','GDP','social_support','healthy_life_expectancy','freedom_to_make_life_choices'\n",
    "       ,'suicide_both_sexes','generosity']].values.astype(float)\n",
    "\n",
    "min_max_scaler = preprocessing.MinMaxScaler()\n",
    "\n",
    "x_scaled = min_max_scaler.fit_transform(x)\n",
    "\n",
    "# Run the normalizer on the dataframe\n",
    "df[['scores','GDP','social_support','healthy_life_expectancy','freedom_to_make_life_choices'\n",
    "       ,'suicide_both_sexes','generosity']] = pd.DataFrame(x_scaled)\n"
   ]
  },
  {
   "cell_type": "code",
   "execution_count": 48,
   "metadata": {},
   "outputs": [],
   "source": [
    "df.to_excel('money_happiness.xlsx', engine='xlsxwriter') "
   ]
  },
  {
   "cell_type": "code",
   "execution_count": 49,
   "metadata": {},
   "outputs": [],
   "source": [
    "import sklearn\n",
    "import seaborn as sns\n",
    "import matplotlib.pyplot as plt"
   ]
  },
  {
   "cell_type": "code",
   "execution_count": 50,
   "metadata": {},
   "outputs": [
    {
     "data": {
      "image/png": "[encoded data removed]",
      "text/plain": [
       "<Figure size 792x648 with 2 Axes>"
      ]
     },
     "metadata": {
      "needs_background": "light"
     },
     "output_type": "display_data"
    }
   ],
   "source": [
    "correlation_data= df.select_dtypes(include=[np.number]).corr()\n",
    "\n",
    "mask = np.zeros_like(correlation_data, dtype=np.bool)\n",
    "mask[np.triu_indices_from(mask)] = True\n",
    "\n",
    "f, ax = plt.subplots(figsize=(11, 9))\n",
    "\n",
    "# Generate a custom diverging colormap\n",
    "cmap = sns.diverging_palette(359, 169, as_cmap=True)\n",
    "\n",
    "# Draw the heatmap with the mask and correct aspect ratio\n",
    "sns.heatmap(correlation_data, mask=mask, cmap=cmap, vmax=.3, center=0,\n",
    "            square=True, linewidths=.5, cbar_kws={\"shrink\": .5});"
   ]
  },
  {
   "cell_type": "code",
   "execution_count": 51,
   "metadata": {},
   "outputs": [],
   "source": [
    "df_plot = df.set_index('countries')"
   ]
  },
  {
   "cell_type": "code",
   "execution_count": 52,
   "metadata": {},
   "outputs": [
    {
     "data": {
      "image/png": "[encoded data removed]",
      "text/plain": [
       "<Figure size 1152x576 with 1 Axes>"
      ]
     },
     "metadata": {
      "needs_background": "light"
     },
     "output_type": "display_data"
    }
   ],
   "source": [
    "df_plot[['scores','GDP']][:15].plot(kind='bar',color=('r','DarkBlue','g'),figsize=(16,8));\n"
   ]
  },
  {
   "cell_type": "code",
   "execution_count": 53,
   "metadata": {
    "scrolled": true
   },
   "outputs": [
    {
     "name": "stdout",
     "output_type": "stream",
     "text": [
      "0.8037777137213659\n"
     ]
    },
    {
     "data": {
      "image/png": "[encoded data removed]",
      "text/plain": [
       "<Figure size 432x288 with 1 Axes>"
      ]
     },
     "metadata": {
      "needs_background": "light"
     },
     "output_type": "display_data"
    }
   ],
   "source": [
    "corr = df['scores'].corr(df['GDP'])\n",
    "print(corr)\n",
    "df.plot.scatter(x='scores', y='GDP', c='r');"
   ]
  },
  {
   "cell_type": "markdown",
   "metadata": {},
   "source": [
    "Correlation between the two variable is equal to 0.8, indicating very positive relationship, meaning that if one variable decreases, the other variable decreases, or one variable increases, the other will also increases. "
   ]
  },
  {
   "cell_type": "code",
   "execution_count": 54,
   "metadata": {},
   "outputs": [
    {
     "data": {
      "image/png": "[encoded data removed]",
      "text/plain": [
       "<Figure size 1152x576 with 1 Axes>"
      ]
     },
     "metadata": {
      "needs_background": "light"
     },
     "output_type": "display_data"
    }
   ],
   "source": [
    "variables"
   ]
  },
  {
   "cell_type": "markdown",
   "metadata": {},
   "source": [
    "One thing we can take from this bar plot is some of happiest countries in the world have what we can consider high suicide rate, like Finland, Iceland Sweden and New Zealand. This phenomenon is refereed to as the paradox of high rates of suicide in happy places. The researches argue that: people judge their well-being in comparison to others around them. These types of comparison effects have also been shown with regards to income, unemployment, crime, and obesity. In other words, misery likes company, it's easier to be miserable in an environment where everyone else is miserable.\n",
    "\n",
    "There has been a dispute over this \"paradox\" and how accurate it really is, other researchers have shown that it does not exist; \"One of the things we know about suicide, as well as homicide, is that it's not equally distributed. The overall suicide rate is helpful, but not nearly as helpful as looking at different groups of people and the areas where the increase has occurred in particular.\"\n",
    "\n",
    "What I personally think though, we should not disregard the first conclusion completely but acknowledge that it lacks more understanding than just stating statically entities."
   ]
  },
  {
   "cell_type": "code",
   "execution_count": 55,
   "metadata": {},
   "outputs": [
    {
     "name": "stdout",
     "output_type": "stream",
     "text": [
      "-0.06729449274626194\n"
     ]
    },
    {
     "data": {
      "image/png": "[encoded data removed]",
      "text/plain": [
       "<Figure size 432x288 with 1 Axes>"
      ]
     },
     "metadata": {
      "needs_background": "light"
     },
     "output_type": "display_data"
    }
   ],
   "source": [
    "corr_2 = df['scores'].corr(df['suicide_both_sexes'])\n",
    "print(corr_2)\n",
    "df.plot.scatter(x='scores', y='suicide_both_sexes', c='r');"
   ]
  },
  {
   "cell_type": "markdown",
   "metadata": {},
   "source": [
    "We can see there is a slightly negative relationship or inverse relationship between two variables, which means the higher values of one variable, the lower values of the other. So we can say there is -0.067 correlation between happiness scores and suicide rate, more accurately we disregard a strong relationship between the two. "
   ]
  },
  {
   "cell_type": "markdown",
   "metadata": {},
   "source": [
    "# Machine Learning Model\n",
    "\n",
    "Now, I went back to the book and studied the answer, we had a similar approach but I gathered more data than needed for the model, so I took the same method in building my regression model. So I modeled Happiness Scores as a linear function of GDP per capita. \n",
    "I used few regression algorithms, K nearest neighbor proved to have the highest accuracy 70%, (not that great I know). I could have added more attributes, used GDP of each country across the years not just 2018 and so on. \n",
    "\n",
    "I figured it a bit out of the scope of the example and called it a day with 70% accuracy to maybe work on it more some other time. \n"
   ]
  },
  {
   "cell_type": "code",
   "execution_count": 56,
   "metadata": {},
   "outputs": [],
   "source": [
    "# keep only countries, GDP and scores. \n",
    "df = df[['countries','GDP','scores']]"
   ]
  },
  {
   "cell_type": "code",
   "execution_count": 57,
   "metadata": {},
   "outputs": [],
   "source": [
    "from sklearn.preprocessing import MinMaxScaler\n",
    "from sklearn.preprocessing import OneHotEncoder"
   ]
  },
  {
   "cell_type": "code",
   "execution_count": 58,
   "metadata": {},
   "outputs": [
    {
     "data": {
      "text/html": [
       "<div>\n",
       "<style scoped>\n",
       "    .dataframe tbody tr th:only-of-type {\n",
       "        vertical-align: middle;\n",
       "    }\n",
       "\n",
       "    .dataframe tbody tr th {\n",
       "        vertical-align: top;\n",
       "    }\n",
       "\n",
       "    .dataframe thead th {\n",
       "        text-align: right;\n",
       "    }\n",
       "</style>\n",
       "<table border=\"1\" class=\"dataframe\">\n",
       "  <thead>\n",
       "    <tr style=\"text-align: right;\">\n",
       "      <th></th>\n",
       "      <th>GDP</th>\n",
       "      <th>countries_Afghanistan</th>\n",
       "      <th>countries_Albania</th>\n",
       "      <th>countries_Algeria</th>\n",
       "      <th>countries_Angola</th>\n",
       "      <th>countries_Argentina</th>\n",
       "      <th>countries_Armenia</th>\n",
       "      <th>countries_Australia</th>\n",
       "      <th>countries_Austria</th>\n",
       "      <th>countries_Azerbaijan</th>\n",
       "      <th>...</th>\n",
       "      <th>countries_United Arab Emirates</th>\n",
       "      <th>countries_United Kingdom</th>\n",
       "      <th>countries_United States</th>\n",
       "      <th>countries_Uruguay</th>\n",
       "      <th>countries_Uzbekistan</th>\n",
       "      <th>countries_Venezuela</th>\n",
       "      <th>countries_Vietnam</th>\n",
       "      <th>countries_Yemen</th>\n",
       "      <th>countries_Zambia</th>\n",
       "      <th>countries_Zimbabwe</th>\n",
       "    </tr>\n",
       "  </thead>\n",
       "  <tbody>\n",
       "    <tr>\n",
       "      <th>0</th>\n",
       "      <td>0.622615</td>\n",
       "      <td>0</td>\n",
       "      <td>0</td>\n",
       "      <td>0</td>\n",
       "      <td>0</td>\n",
       "      <td>0</td>\n",
       "      <td>0</td>\n",
       "      <td>0</td>\n",
       "      <td>0</td>\n",
       "      <td>0</td>\n",
       "      <td>...</td>\n",
       "      <td>0</td>\n",
       "      <td>0</td>\n",
       "      <td>0</td>\n",
       "      <td>0</td>\n",
       "      <td>0</td>\n",
       "      <td>0</td>\n",
       "      <td>0</td>\n",
       "      <td>0</td>\n",
       "      <td>0</td>\n",
       "      <td>0</td>\n",
       "    </tr>\n",
       "    <tr>\n",
       "      <th>1</th>\n",
       "      <td>0.694656</td>\n",
       "      <td>0</td>\n",
       "      <td>0</td>\n",
       "      <td>0</td>\n",
       "      <td>0</td>\n",
       "      <td>0</td>\n",
       "      <td>0</td>\n",
       "      <td>0</td>\n",
       "      <td>0</td>\n",
       "      <td>0</td>\n",
       "      <td>...</td>\n",
       "      <td>0</td>\n",
       "      <td>0</td>\n",
       "      <td>0</td>\n",
       "      <td>0</td>\n",
       "      <td>0</td>\n",
       "      <td>0</td>\n",
       "      <td>0</td>\n",
       "      <td>0</td>\n",
       "      <td>0</td>\n",
       "      <td>0</td>\n",
       "    </tr>\n",
       "    <tr>\n",
       "      <th>2</th>\n",
       "      <td>0.644561</td>\n",
       "      <td>0</td>\n",
       "      <td>0</td>\n",
       "      <td>0</td>\n",
       "      <td>0</td>\n",
       "      <td>0</td>\n",
       "      <td>0</td>\n",
       "      <td>0</td>\n",
       "      <td>0</td>\n",
       "      <td>0</td>\n",
       "      <td>...</td>\n",
       "      <td>0</td>\n",
       "      <td>0</td>\n",
       "      <td>0</td>\n",
       "      <td>0</td>\n",
       "      <td>0</td>\n",
       "      <td>0</td>\n",
       "      <td>0</td>\n",
       "      <td>0</td>\n",
       "      <td>0</td>\n",
       "      <td>0</td>\n",
       "    </tr>\n",
       "    <tr>\n",
       "      <th>3</th>\n",
       "      <td>0.640744</td>\n",
       "      <td>0</td>\n",
       "      <td>0</td>\n",
       "      <td>0</td>\n",
       "      <td>0</td>\n",
       "      <td>0</td>\n",
       "      <td>0</td>\n",
       "      <td>0</td>\n",
       "      <td>0</td>\n",
       "      <td>0</td>\n",
       "      <td>...</td>\n",
       "      <td>0</td>\n",
       "      <td>0</td>\n",
       "      <td>0</td>\n",
       "      <td>0</td>\n",
       "      <td>0</td>\n",
       "      <td>0</td>\n",
       "      <td>0</td>\n",
       "      <td>0</td>\n",
       "      <td>0</td>\n",
       "      <td>0</td>\n",
       "    </tr>\n",
       "    <tr>\n",
       "      <th>4</th>\n",
       "      <td>0.677481</td>\n",
       "      <td>0</td>\n",
       "      <td>0</td>\n",
       "      <td>0</td>\n",
       "      <td>0</td>\n",
       "      <td>0</td>\n",
       "      <td>0</td>\n",
       "      <td>0</td>\n",
       "      <td>0</td>\n",
       "      <td>0</td>\n",
       "      <td>...</td>\n",
       "      <td>0</td>\n",
       "      <td>0</td>\n",
       "      <td>0</td>\n",
       "      <td>0</td>\n",
       "      <td>0</td>\n",
       "      <td>0</td>\n",
       "      <td>0</td>\n",
       "      <td>0</td>\n",
       "      <td>0</td>\n",
       "      <td>0</td>\n",
       "    </tr>\n",
       "  </tbody>\n",
       "</table>\n",
       "<p>5 rows × 152 columns</p>\n",
       "</div>"
      ],
      "text/plain": [
       "        GDP  countries_Afghanistan  countries_Albania  countries_Algeria  \\\n",
       "0  0.622615                      0                  0                  0   \n",
       "1  0.694656                      0                  0                  0   \n",
       "2  0.644561                      0                  0                  0   \n",
       "3  0.640744                      0                  0                  0   \n",
       "4  0.677481                      0                  0                  0   \n",
       "\n",
       "   countries_Angola  countries_Argentina  countries_Armenia  \\\n",
       "0                 0                    0                  0   \n",
       "1                 0                    0                  0   \n",
       "2                 0                    0                  0   \n",
       "3                 0                    0                  0   \n",
       "4                 0                    0                  0   \n",
       "\n",
       "   countries_Australia  countries_Austria  countries_Azerbaijan  \\\n",
       "0                    0                  0                     0   \n",
       "1                    0                  0                     0   \n",
       "2                    0                  0                     0   \n",
       "3                    0                  0                     0   \n",
       "4                    0                  0                     0   \n",
       "\n",
       "          ...          countries_United Arab Emirates  \\\n",
       "0         ...                                       0   \n",
       "1         ...                                       0   \n",
       "2         ...                                       0   \n",
       "3         ...                                       0   \n",
       "4         ...                                       0   \n",
       "\n",
       "   countries_United Kingdom  countries_United States  countries_Uruguay  \\\n",
       "0                         0                        0                  0   \n",
       "1                         0                        0                  0   \n",
       "2                         0                        0                  0   \n",
       "3                         0                        0                  0   \n",
       "4                         0                        0                  0   \n",
       "\n",
       "   countries_Uzbekistan  countries_Venezuela  countries_Vietnam  \\\n",
       "0                     0                    0                  0   \n",
       "1                     0                    0                  0   \n",
       "2                     0                    0                  0   \n",
       "3                     0                    0                  0   \n",
       "4                     0                    0                  0   \n",
       "\n",
       "   countries_Yemen  countries_Zambia  countries_Zimbabwe  \n",
       "0                0                 0                   0  \n",
       "1                0                 0                   0  \n",
       "2                0                 0                   0  \n",
       "3                0                 0                   0  \n",
       "4                0                 0                   0  \n",
       "\n",
       "[5 rows x 152 columns]"
      ]
     },
     "execution_count": 58,
     "metadata": {},
     "output_type": "execute_result"
    }
   ],
   "source": [
    "df_onehot = pd.get_dummies(df, columns=['countries'])\n",
    "features=df_onehot.loc[:, df_onehot.columns != 'scores']\n",
    "label=df['scores']\n",
    "features.head()"
   ]
  },
  {
   "cell_type": "code",
   "execution_count": 59,
   "metadata": {},
   "outputs": [],
   "source": [
    "from sklearn.preprocessing import MinMaxScaler\n",
    "scaler=MinMaxScaler()\n",
    "features=scaler.fit_transform(features) "
   ]
  },
  {
   "cell_type": "code",
   "execution_count": 60,
   "metadata": {},
   "outputs": [],
   "source": [
    "from sklearn.model_selection import train_test_split\n",
    "train_data, test_data, train_labels, test_labels = train_test_split(features, label, test_size=0.25, random_state=42)"
   ]
  },
  {
   "cell_type": "code",
   "execution_count": 61,
   "metadata": {},
   "outputs": [],
   "source": [
    "from sklearn.metrics import r2_score\n",
    "def compare_models(model):\n",
    "    model_name = model.__class__.__name__\n",
    "    fit=model.fit(train_data,train_labels)\n",
    "    y_pred=fit.predict(test_data)\n",
    "    r2=r2_score(test_labels,y_pred)\n",
    "    return([model_name,r2])\n",
    "\n",
    "\n",
    "from sklearn.ensemble import RandomForestRegressor\n",
    "from sklearn.ensemble import GradientBoostingRegressor\n",
    "from sklearn import svm\n",
    "from sklearn.tree import DecisionTreeRegressor\n",
    "from sklearn.linear_model import LinearRegression\n",
    "from sklearn.neighbors import KNeighborsRegressor\n",
    "\n",
    "models = [\n",
    "    GradientBoostingRegressor(n_estimators=200, max_depth=3, random_state=0),\n",
    "     RandomForestRegressor(n_estimators=200, max_depth=3, random_state=0),\n",
    "    svm.SVR(),\n",
    "   DecisionTreeRegressor(),\n",
    "    LinearRegression(),\n",
    "KNeighborsRegressor(n_neighbors=7)]"
   ]
  },
  {
   "cell_type": "code",
   "execution_count": 62,
   "metadata": {},
   "outputs": [],
   "source": [
    "model_train=list(map(compare_models,models)) \n"
   ]
  },
  {
   "cell_type": "code",
   "execution_count": 63,
   "metadata": {
    "scrolled": true
   },
   "outputs": [
    {
     "data": {
      "text/plain": [
       "[['GradientBoostingRegressor', 0.6993557835890197],\n",
       " ['RandomForestRegressor', 0.6903121699932337],\n",
       " ['SVR', 0.1843653088902898],\n",
       " ['DecisionTreeRegressor', 0.5219344540922709],\n",
       " ['LinearRegression', 0.07678855423152009],\n",
       " ['KNeighborsRegressor', 0.7053458605441314]]"
      ]
     },
     "execution_count": 63,
     "metadata": {},
     "output_type": "execute_result"
    }
   ],
   "source": [
    "model_train"
   ]
  },
  {
   "cell_type": "code",
   "execution_count": 64,
   "metadata": {},
   "outputs": [
    {
     "name": "stdout",
     "output_type": "stream",
     "text": [
      "0.7053458605441314\n"
     ]
    }
   ],
   "source": [
    "# using KNeighborsRegressor \n",
    "clf=KNeighborsRegressor(n_neighbors=7)\n",
    "model=clf.fit(train_data,train_labels)\n",
    "y_pred=model.predict(test_data)\n",
    "r2=r2_score(test_labels,y_pred)\n",
    "print(r2)"
   ]
  },
  {
   "cell_type": "markdown",
   "metadata": {},
   "source": [
    "## Sources Used: \n",
    "https://en.wikipedia.org/wiki/World_Happiness_Report\n",
    "https://en.wikipedia.org/wiki/List_of_countries_by_suicide_rate\n",
    "https://www.sciencedaily.com/releases/2011/04/110421082641.htm\n",
    "https://scikit-learn.org/stable/modules/generated/sklearn.neighbors.KNeighborsRegressor.html\n",
    "http://index-of.es/Varios-2/Hands%20on%20Machine%20Learning%20with%20Scikit%20Learn%20and%20Tensorflow.pdf\n",
    "https://www.colorado.edu/asmagazine/2018/08/18/paradox-suicide-happy-places-seems-not-exist\n",
    "https://ramsresearch.nl/rumour-or-reality-suicidal-scandinavians/\n",
    "\n",
    "Tableau Visulization: \n",
    "https://public.tableau.com/profile/hajir.almahdi#!/vizhome/MoneyandHappiness/Story1"
   ]
  },
  {
   "cell_type": "code",
   "execution_count": null,
   "metadata": {},
   "outputs": [],
   "source": []
  }
 ],
 "metadata": {
  "kernelspec": {
   "display_name": "Python 3",
   "language": "python",
   "name": "python3"
  },
  "language_info": {
   "codemirror_mode": {
    "name": "ipython",
    "version": 3
   },
   "file_extension": ".py",
   "mimetype": "text/x-python",
   "name": "python",
   "nbconvert_exporter": "python",
   "pygments_lexer": "ipython3",
   "version": "3.7.0"
  }
 },
 "nbformat": 4,
 "nbformat_minor": 2
}
